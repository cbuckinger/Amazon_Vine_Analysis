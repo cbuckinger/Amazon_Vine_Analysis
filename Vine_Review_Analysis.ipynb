{
  "cells": [
    {
      "cell_type": "code",
      "execution_count": null,
      "metadata": {
        "id": "jgAjKaHRFMcT"
      },
      "outputs": [],
      "source": [
        "!pip install pyspark"
      ]
    },
    {
      "cell_type": "code",
      "execution_count": null,
      "metadata": {
        "id": "FNOYdEJhFwMT"
      },
      "outputs": [],
      "source": [
        "from pyspark.sql import SparkSession\n",
        "spark = SparkSession.builder.appName(\"M16-Amazon-Challenge-PtII\").config(\"spark.driver.extraClassPath\",\"/content/postgresql-42.2.16.jar\").getOrCreate()"
      ]
    },
    {
      "cell_type": "code",
      "execution_count": null,
      "metadata": {
        "id": "6RB0yYB6GMnM"
      },
      "outputs": [],
      "source": [
        "from pyspark import SparkFiles\n",
        "url = \"https://s3.amazonaws.com/amazon-reviews-pds/tsv/amazon_reviews_multilingual_FR_v1_00.tsv.gz\"\n",
        "spark.sparkContext.addFile(url)\n",
        "df_FR = spark.read.option(\"encoding\", \"UTF-8\").csv(SparkFiles.get(\"amazon_reviews_multilingual_FR_v1_00.tsv.gz\"), sep=\"\\t\", header=True, inferSchema=True)\n",
        "df_FR.show()"
      ]
    },
    {
      "cell_type": "code",
      "execution_count": null,
      "metadata": {
        "id": "0NoG_0J7O87F"
      },
      "outputs": [],
      "source": [
        "from pyspark.sql.functions import col , upper , initcap"
      ]
    },
    {
      "cell_type": "code",
      "execution_count": null,
      "metadata": {
        "colab": {
          "base_uri": "https://localhost:8080/"
        },
        "id": "D4_9YR7GHcPw",
        "outputId": "016c1456-d584-46d3-c050-839c3a7b08ed"
      },
      "outputs": [
        {
          "name": "stdout",
          "output_type": "stream",
          "text": [
            "root\n",
            " |-- marketplace: string (nullable = true)\n",
            " |-- customer_id: integer (nullable = true)\n",
            " |-- review_id: string (nullable = true)\n",
            " |-- product_id: string (nullable = true)\n",
            " |-- product_parent: integer (nullable = true)\n",
            " |-- product_title: string (nullable = true)\n",
            " |-- product_category: string (nullable = true)\n",
            " |-- star_rating: integer (nullable = true)\n",
            " |-- helpful_votes: integer (nullable = true)\n",
            " |-- total_votes: integer (nullable = true)\n",
            " |-- vine: string (nullable = true)\n",
            " |-- verified_purchase: string (nullable = true)\n",
            " |-- review_headline: string (nullable = true)\n",
            " |-- review_body: string (nullable = true)\n",
            " |-- review_date: timestamp (nullable = true)\n",
            "\n"
          ]
        },
        {
          "data": {
            "text/plain": [
              "254080"
            ]
          },
          "execution_count": 40,
          "metadata": {},
          "output_type": "execute_result"
        }
      ],
      "source": [
        "df_FR.printSchema()\n",
        "df_FR.count()"
      ]
    },
    {
      "cell_type": "code",
      "execution_count": null,
      "metadata": {
        "id": "d-uTfrcpGcJW"
      },
      "outputs": [],
      "source": [
        "#Filter the data and create a new DataFrame or table to retrieve all the rows where the total_votes count is equal to or greater than 20 \n",
        "\n",
        "df_FR_High_Votes=df_FR.filter(\"total_votes>=20\").select(df_FR.columns[:15]) ##.show()"
      ]
    },
    {
      "cell_type": "code",
      "execution_count": null,
      "metadata": {
        "id": "j8OXM_WxXA6G"
      },
      "outputs": [],
      "source": [
        "df_FR_High_Votes.printSchema()"
      ]
    },
    {
      "cell_type": "code",
      "execution_count": null,
      "metadata": {
        "colab": {
          "base_uri": "https://localhost:8080/"
        },
        "id": "qODrN14OWQoy",
        "outputId": "e481fda4-05c8-4aad-ae3f-51969e9ec119"
      },
      "outputs": [
        {
          "data": {
            "text/plain": [
              "11000"
            ]
          },
          "execution_count": 39,
          "metadata": {},
          "output_type": "execute_result"
        }
      ],
      "source": [
        "df_FR_High_Votes.columns\n",
        "df_FR_High_Votes.describe()\n",
        "df_FR_High_Votes.count()"
      ]
    },
    {
      "cell_type": "markdown",
      "metadata": {
        "id": "edNpNKLrOK98"
      },
      "source": [
        "filter the new DataFrame or table created in Step 1 and create a new DataFrame or table to retrieve all the rows where the number of helpful_votes divided by total_votes is equal to or greater than 50%."
      ]
    },
    {
      "cell_type": "code",
      "execution_count": null,
      "metadata": {
        "id": "0DSGJEypReJ3"
      },
      "outputs": [],
      "source": [
        "df_FR_High_Votes.withColumn('happy_votes',df_FR_High_Votes['helpful_votes']).show()"
      ]
    },
    {
      "cell_type": "code",
      "execution_count": null,
      "metadata": {
        "id": "LKpA5hzqGcM0"
      },
      "outputs": [],
      "source": [
        "helpful_votes_df=df_FR_High_Votes.withColumn(\"happy_votes\",df_FR_High_Votes[\"helpful_votes\"]/df_FR_High_Votes[\"total_votes\"]*100) ##.show()"
      ]
    },
    {
      "cell_type": "code",
      "execution_count": null,
      "metadata": {
        "colab": {
          "base_uri": "https://localhost:8080/"
        },
        "id": "bbbR9YXBGcPy",
        "outputId": "fec20ddd-f77a-49da-8285-5abda2496e9a"
      },
      "outputs": [
        {
          "name": "stdout",
          "output_type": "stream",
          "text": [
            "+-----------+-----------+--------------+----------+--------------+--------------------+--------------------+-----------+-------------+-----------+----+-----------------+--------------------+--------------------+-------------------+------------------+\n",
            "|marketplace|customer_id|     review_id|product_id|product_parent|       product_title|    product_category|star_rating|helpful_votes|total_votes|vine|verified_purchase|     review_headline|         review_body|        review_date|       happy_votes|\n",
            "+-----------+-----------+--------------+----------+--------------+--------------------+--------------------+-----------+-------------+-----------+----+-----------------+--------------------+--------------------+-------------------+------------------+\n",
            "|         FR|      47266|R2LX6LJ7BA92OO|B00YN6XHMU|     474654167|Grey: Fifty Shade...|Digital_Ebook_Pur...|          1|           21|         27|   N|                Y|De la guimauve en...|Je pensais que la...|2015-06-20 00:00:00| 77.77777777777779|\n",
            "|         FR|      49017|R3VMEW1JWIXV1E|B005ETA5K2|     714836836|ALFA Network AWUS...|                  PC|          1|            2|         26|   N|                N|Pas possible de m...|Je ne suis pas a ...|2012-11-21 00:00:00|7.6923076923076925|\n",
            "|         FR|      73439| R8RBQTRZ32CFG|140120841X|     333940954|V for Vendetta Ne...|               Books|          1|            0|         29|   N|                Y|           c'est nul|je vous d&eacute;...|2013-10-22 00:00:00|               0.0|\n",
            "|         FR|      99531|R2612UZ2GU2K29|B00FAPF5U0|      46324555|    Candy Crush Saga|         Mobile_Apps|          5|           25|         32|   N|                Y|    candy crush saga|J'aime trop se je...|2013-11-13 00:00:00|            78.125|\n",
            "|         FR|      99531|R28X8YI8B00C6S|B00I6IKSZ0|     918624977|Pixel Gun 3D (Poc...|         Mobile_Apps|          4|           52|         63|   N|                Y|                Sava|Ce jeu est tr&egr...|2014-08-05 00:00:00| 82.53968253968253|\n",
            "|         FR|     100106|R3O3RDGDHHINF2|B00K4APIN0|     979253225|Clash of Lords 2:...|         Mobile_Apps|          5|           41|         53|   N|                Y|tr&egrave;s tr&eg...|Tr&egrave;s tr&eg...|2014-06-18 00:00:00| 77.35849056603774|\n",
            "|         FR|    1231979|  RQRAR269EQNP|B00LX8KZZ8|     922206174|         yubikey Neo|                  PC|          2|            7|         35|   N|                Y|bon produit mais ...|je viens de recev...|2014-12-06 00:00:00|              20.0|\n",
            "|         FR|    2658758|R1FSDCDV0XV3X6|B00KNWYDU8|     779873629|         Dragon City|         Mobile_Apps|          4|           27|         33|   N|                Y|        jeu addictif|Quand on commence...|2015-08-20 00:00:00| 81.81818181818183|\n",
            "|         FR|    2938798|R2LK33YEMGHB27|B00UW6AFXO|     636381571|Karl Böhm: Late R...|               Music|          5|            4|         28|   N|                Y|      Karl B&ouml;hm|Un coffret conten...|2015-07-26 00:00:00|14.285714285714285|\n",
            "|         FR|    2982062|R3QBW3JMQ4WOOW|B00JOT3HQ2|     545270466|  Geometry Dash Lite|         Mobile_Apps|          5|           14|         20|   N|                Y|     Une merveille!!|Ce jeu est fantas...|2014-10-23 00:00:00|              70.0|\n",
            "|         FR|    3360994| RRZXAHEVTT2HC|B00PSID6ZK|     609815143|   Ma Talking Angela|         Mobile_Apps|          5|           69|         92|   N|                Y|          TROP COOOL|trop cool  j ador...|2015-05-06 00:00:00|              75.0|\n",
            "|         FR|    3487971|R3AUV7LA2MZTEO|B00GINENG0|     199830611|     Mon Talking Tom|         Mobile_Apps|          5|           16|         21|   N|                N|     agr&eacute;able|Ma fille adore ce...|2015-03-24 00:00:00| 76.19047619047619|\n",
            "|         FR|    3614115| R3NOR8QP5W657|B013JUNL58|     758289517|Star Wars - La sa...|           Video DVD|          1|           15|         29|   N|                N|un bel emballage ...|je suis entièreme...|2015-08-16 00:00:00|51.724137931034484|\n",
            "|         FR|    3731980|R1XM8IQUDFKBQZ|B00V94QAO6|     672024888|Interstellar Coff...|           Video DVD|          2|           19|         27|   N|                N|Tarif revendeur t...|Presque deux fois...|2015-04-01 00:00:00| 70.37037037037037|\n",
            "|         FR|    3741590| RZR9JFL71VIHX|B00AQVMZKQ|     530546487|Downton Abbey-Ser...|           Video DVD|          5|           53|         62|   N|                N|Patience ça viend...|Pour passer ma co...|2014-04-16 00:00:00| 85.48387096774194|\n",
            "|         FR|    3763078|R2OTWD8ZTG53UV|B00H2XX4OW|      62408656|Lego City - 60049...|                Toys|          1|           17|         20|   N|                N|         Scandaleux!|Ce camion est en ...|2014-12-13 00:00:00|              85.0|\n",
            "|         FR|    3766627|R1R116HFXJ3X2O|B00NIGL32M|     241676942|Sony Xperia Z3 Sm...|            Wireless|          1|           15|         20|   N|                Y|je suis d&eacute;...|Bonjour<br />Je s...|2015-05-16 00:00:00|              75.0|\n",
            "|         FR|    3772088| RY8YALKOKA9HZ|B00HDEERTQ|     803981632|Le Hobbit - La dé...|           Video DVD|          5|           20|         26|   N|                N|       Sublime en 3D|Film captivant et...|2014-04-19 00:00:00| 76.92307692307693|\n",
            "|         FR|    3851732| R1DFKOY7DJ215|B00O87J9NU|      52119370|Beyonce (2 CD + 2...|               Music|          1|            2|         31|   N|                N|Circulez y'a rien...|Si je pouvais met...|2014-12-24 00:00:00| 6.451612903225806|\n",
            "|         FR|    3923173|R25E3DCOW697YX|B010EFKOSS|     895883504|Mad max : fury ro...|           Video DVD|          1|            9|         59|   N|                N|        Pas terrible|Moi qui ai adoré ...|2015-07-15 00:00:00|15.254237288135593|\n",
            "+-----------+-----------+--------------+----------+--------------+--------------------+--------------------+-----------+-------------+-----------+----+-----------------+--------------------+--------------------+-------------------+------------------+\n",
            "only showing top 20 rows\n",
            "\n"
          ]
        }
      ],
      "source": [
        "helpful_votes_df.show()"
      ]
    },
    {
      "cell_type": "code",
      "execution_count": null,
      "metadata": {
        "colab": {
          "base_uri": "https://localhost:8080/"
        },
        "id": "s3HT9skNkU96",
        "outputId": "0789f28a-30c9-420d-a8c1-f04c6810af5b"
      },
      "outputs": [
        {
          "data": {
            "text/plain": [
              "11000"
            ]
          },
          "execution_count": 38,
          "metadata": {},
          "output_type": "execute_result"
        }
      ],
      "source": [
        "helpful_votes_df.count()"
      ]
    },
    {
      "cell_type": "code",
      "execution_count": null,
      "metadata": {
        "id": "8TERrICFajCN"
      },
      "outputs": [],
      "source": [
        "happy_helpful_votes_df=helpful_votes_df.filter(\"happy_votes>=.50\") #.select(df_FR.columns[:15]) ##.show()"
      ]
    },
    {
      "cell_type": "code",
      "execution_count": null,
      "metadata": {
        "colab": {
          "base_uri": "https://localhost:8080/"
        },
        "id": "uhPlYB17a_gq",
        "outputId": "7f2f3198-c04c-4bc0-9307-31049cc6962a"
      },
      "outputs": [
        {
          "name": "stdout",
          "output_type": "stream",
          "text": [
            "+-----------+-----------+--------------+----------+--------------+--------------------+--------------------+-----------+-------------+-----------+----+-----------------+--------------------+--------------------+-------------------+------------------+\n",
            "|marketplace|customer_id|     review_id|product_id|product_parent|       product_title|    product_category|star_rating|helpful_votes|total_votes|vine|verified_purchase|     review_headline|         review_body|        review_date|       happy_votes|\n",
            "+-----------+-----------+--------------+----------+--------------+--------------------+--------------------+-----------+-------------+-----------+----+-----------------+--------------------+--------------------+-------------------+------------------+\n",
            "|         FR|      47266|R2LX6LJ7BA92OO|B00YN6XHMU|     474654167|Grey: Fifty Shade...|Digital_Ebook_Pur...|          1|           21|         27|   N|                Y|De la guimauve en...|Je pensais que la...|2015-06-20 00:00:00| 77.77777777777779|\n",
            "|         FR|      49017|R3VMEW1JWIXV1E|B005ETA5K2|     714836836|ALFA Network AWUS...|                  PC|          1|            2|         26|   N|                N|Pas possible de m...|Je ne suis pas a ...|2012-11-21 00:00:00|7.6923076923076925|\n",
            "|         FR|      99531|R2612UZ2GU2K29|B00FAPF5U0|      46324555|    Candy Crush Saga|         Mobile_Apps|          5|           25|         32|   N|                Y|    candy crush saga|J'aime trop se je...|2013-11-13 00:00:00|            78.125|\n",
            "|         FR|      99531|R28X8YI8B00C6S|B00I6IKSZ0|     918624977|Pixel Gun 3D (Poc...|         Mobile_Apps|          4|           52|         63|   N|                Y|                Sava|Ce jeu est tr&egr...|2014-08-05 00:00:00| 82.53968253968253|\n",
            "|         FR|     100106|R3O3RDGDHHINF2|B00K4APIN0|     979253225|Clash of Lords 2:...|         Mobile_Apps|          5|           41|         53|   N|                Y|tr&egrave;s tr&eg...|Tr&egrave;s tr&eg...|2014-06-18 00:00:00| 77.35849056603774|\n",
            "|         FR|    1231979|  RQRAR269EQNP|B00LX8KZZ8|     922206174|         yubikey Neo|                  PC|          2|            7|         35|   N|                Y|bon produit mais ...|je viens de recev...|2014-12-06 00:00:00|              20.0|\n",
            "|         FR|    2658758|R1FSDCDV0XV3X6|B00KNWYDU8|     779873629|         Dragon City|         Mobile_Apps|          4|           27|         33|   N|                Y|        jeu addictif|Quand on commence...|2015-08-20 00:00:00| 81.81818181818183|\n",
            "|         FR|    2938798|R2LK33YEMGHB27|B00UW6AFXO|     636381571|Karl Böhm: Late R...|               Music|          5|            4|         28|   N|                Y|      Karl B&ouml;hm|Un coffret conten...|2015-07-26 00:00:00|14.285714285714285|\n",
            "|         FR|    2982062|R3QBW3JMQ4WOOW|B00JOT3HQ2|     545270466|  Geometry Dash Lite|         Mobile_Apps|          5|           14|         20|   N|                Y|     Une merveille!!|Ce jeu est fantas...|2014-10-23 00:00:00|              70.0|\n",
            "|         FR|    3360994| RRZXAHEVTT2HC|B00PSID6ZK|     609815143|   Ma Talking Angela|         Mobile_Apps|          5|           69|         92|   N|                Y|          TROP COOOL|trop cool  j ador...|2015-05-06 00:00:00|              75.0|\n",
            "|         FR|    3487971|R3AUV7LA2MZTEO|B00GINENG0|     199830611|     Mon Talking Tom|         Mobile_Apps|          5|           16|         21|   N|                N|     agr&eacute;able|Ma fille adore ce...|2015-03-24 00:00:00| 76.19047619047619|\n",
            "|         FR|    3614115| R3NOR8QP5W657|B013JUNL58|     758289517|Star Wars - La sa...|           Video DVD|          1|           15|         29|   N|                N|un bel emballage ...|je suis entièreme...|2015-08-16 00:00:00|51.724137931034484|\n",
            "|         FR|    3731980|R1XM8IQUDFKBQZ|B00V94QAO6|     672024888|Interstellar Coff...|           Video DVD|          2|           19|         27|   N|                N|Tarif revendeur t...|Presque deux fois...|2015-04-01 00:00:00| 70.37037037037037|\n",
            "|         FR|    3741590| RZR9JFL71VIHX|B00AQVMZKQ|     530546487|Downton Abbey-Ser...|           Video DVD|          5|           53|         62|   N|                N|Patience ça viend...|Pour passer ma co...|2014-04-16 00:00:00| 85.48387096774194|\n",
            "|         FR|    3763078|R2OTWD8ZTG53UV|B00H2XX4OW|      62408656|Lego City - 60049...|                Toys|          1|           17|         20|   N|                N|         Scandaleux!|Ce camion est en ...|2014-12-13 00:00:00|              85.0|\n",
            "|         FR|    3766627|R1R116HFXJ3X2O|B00NIGL32M|     241676942|Sony Xperia Z3 Sm...|            Wireless|          1|           15|         20|   N|                Y|je suis d&eacute;...|Bonjour<br />Je s...|2015-05-16 00:00:00|              75.0|\n",
            "|         FR|    3772088| RY8YALKOKA9HZ|B00HDEERTQ|     803981632|Le Hobbit - La dé...|           Video DVD|          5|           20|         26|   N|                N|       Sublime en 3D|Film captivant et...|2014-04-19 00:00:00| 76.92307692307693|\n",
            "|         FR|    3851732| R1DFKOY7DJ215|B00O87J9NU|      52119370|Beyonce (2 CD + 2...|               Music|          1|            2|         31|   N|                N|Circulez y'a rien...|Si je pouvais met...|2014-12-24 00:00:00| 6.451612903225806|\n",
            "|         FR|    3923173|R25E3DCOW697YX|B010EFKOSS|     895883504|Mad max : fury ro...|           Video DVD|          1|            9|         59|   N|                N|        Pas terrible|Moi qui ai adoré ...|2015-07-15 00:00:00|15.254237288135593|\n",
            "|         FR|    3926853|R2JYNRZIJZHTVX|B00RC3MJDY|     672024888|Interstellar [War...|           Video DVD|          5|           23|         29|   N|                N|            Très bon|Il faut vraiment ...|2015-04-29 00:00:00|  79.3103448275862|\n",
            "+-----------+-----------+--------------+----------+--------------+--------------------+--------------------+-----------+-------------+-----------+----+-----------------+--------------------+--------------------+-------------------+------------------+\n",
            "only showing top 20 rows\n",
            "\n"
          ]
        }
      ],
      "source": [
        "happy_helpful_votes_df.show()"
      ]
    },
    {
      "cell_type": "code",
      "execution_count": null,
      "metadata": {
        "colab": {
          "base_uri": "https://localhost:8080/"
        },
        "id": "N4kET5ENkApK",
        "outputId": "7e1b05c2-1a85-41e7-cf8c-0e52b73f1a12"
      },
      "outputs": [
        {
          "data": {
            "text/plain": [
              "10942"
            ]
          },
          "execution_count": 37,
          "metadata": {},
          "output_type": "execute_result"
        }
      ],
      "source": [
        "happy_helpful_votes_df.count()"
      ]
    },
    {
      "cell_type": "markdown",
      "metadata": {
        "id": "ZRMswdvOiV4u"
      },
      "source": [
        "create a new DataFrame or table that retrieves all the rows where a review was written as part of the Vine program (paid), vine == 'Y'."
      ]
    },
    {
      "cell_type": "code",
      "execution_count": null,
      "metadata": {
        "id": "B7p18NbViblT"
      },
      "outputs": [],
      "source": [
        "Vine_Yes_df=happy_helpful_votes_df.filter(\"vine=='Y'\")"
      ]
    },
    {
      "cell_type": "code",
      "execution_count": null,
      "metadata": {
        "colab": {
          "base_uri": "https://localhost:8080/"
        },
        "id": "zAlMspIVh3JG",
        "outputId": "e9a1399c-9b48-4b7e-c08d-75c55ab4e5af"
      },
      "outputs": [
        {
          "name": "stdout",
          "output_type": "stream",
          "text": [
            "+-----------+-----------+--------------+----------+--------------+--------------------+----------------+-----------+-------------+-----------+----+-----------------+--------------------+--------------------+-------------------+------------------+\n",
            "|marketplace|customer_id|     review_id|product_id|product_parent|       product_title|product_category|star_rating|helpful_votes|total_votes|vine|verified_purchase|     review_headline|         review_body|        review_date|       happy_votes|\n",
            "+-----------+-----------+--------------+----------+--------------+--------------------+----------------+-----------+-------------+-----------+----+-----------------+--------------------+--------------------+-------------------+------------------+\n",
            "|         FR|   21965371|R22SUWPP3KRZT6|B00KRM8LE8|     711168977|Amazon - Étui de ...|              PC|          3|           21|         26|   Y|                N|bien mais 50 % de...|Sur la conception...|2014-10-19 00:00:00| 80.76923076923077|\n",
            "|         FR|   23307243|R3O1MAY03ZF3MP|B008MWBY6W|     884543747|AmazonBasics Étui...|          Camera|          3|           19|         20|   Y|                N|Tr&egrave;s bonne...|Cet &eacute;tui e...|2013-03-07 00:00:00|              95.0|\n",
            "|         FR|   24680976|R30LQPCSI3ELHN|2226246940|     927755747|            22/11/63|           Books|          5|           18|         23|   Y|                N|Retour vers le passé|Difficle de comme...|2013-02-18 00:00:00| 78.26086956521739|\n",
            "|         FR|   25843266|R3QIS7D8004AD2|B00H43WOAK|     299744542|Withings Tensiomè...|              PC|          3|           76|         80|   Y|                N|tensiom&egrave;tr...|Ayant déja celui ...|2014-02-22 00:00:00|              95.0|\n",
            "|         FR|   29404673|R3R6CDRZU5U2XW|B003MRN6PY|     729088587|Bach : Intégrale ...|           Music|          4|           41|         47|   Y|                N|Pour les amoureux...|Voici un beau et ...|2011-10-28 00:00:00|  87.2340425531915|\n",
            "|         FR|   30321120|R16J9CTJQ41IC2|2226246940|     927755747|            22/11/63|           Books|          5|           18|         22|   Y|                N|Le maître a encor...|Apr&egrave;s \\\\\" ...|2013-03-05 00:00:00| 81.81818181818183|\n",
            "|         FR|   31625500| RJNGHTZD3NT6F|B002VPE1WK|     839407277|AmazonBasics Sac ...|          Camera|          3|           30|         35|   Y|                N|Un sac qui ne con...|Ce sac est certes...|2010-11-15 00:00:00| 85.71428571428571|\n",
            "|         FR|   32466586|R1QVLVW5QS39ZF|2226246940|     927755747|            22/11/63|           Books|          4|           21|         25|   Y|                N|Un captivant voya...|Pari réussi pour ...|2013-03-04 00:00:00|              84.0|\n",
            "|         FR|   33419087| R4SMY6Y2J9897|B003MRN6PY|     729088587|Bach : Intégrale ...|           Music|          5|           24|         28|   Y|                N|L'int&eacute;gral...|Tout d'abord, sac...|2011-10-11 00:00:00| 85.71428571428571|\n",
            "|         FR|   33875828|R1JKVISEGW1GXV|B003MRN6PY|     729088587|Bach : Intégrale ...|           Music|          5|           37|         41|   Y|                N|Un coffret tout e...|Tout a d&eacute;j...|2012-04-21 00:00:00|  90.2439024390244|\n",
            "|         FR|   34738500|R1ZQ5RKLXUO558|B003MRN6PY|     729088587|Bach : Intégrale ...|           Music|          4|           39|         45|   Y|                N|Le prix seul est ...|L'œuvre de Bach e...|2011-10-14 00:00:00| 86.66666666666667|\n",
            "|         FR|   35500769| R7651GBYAFMDM|2226218777|     995777095|                Alex|           Books|          4|           68|         68|   Y|                N|Retourn&eacute; j...|Que dire, &agrave...|2011-03-09 00:00:00|             100.0|\n",
            "|         FR|   39149743|R355429CV7ZLK5|B00CW7KK9K|     977480037|Withings Pulse - ...|          Sports|          5|           25|         27|   Y|                N|   presque magique !|Ce petit appareil...|2013-12-02 00:00:00|  92.5925925925926|\n",
            "|         FR|   40324108|R1G6N679O6URRH|B0090CVJZ4|     577429472|AmazonBasics Lot ...|     Electronics|          5|           25|         27|   Y|                N|bon rapport quali...|ensemble très int...|2013-11-30 00:00:00|  92.5925925925926|\n",
            "|         FR|   40518356|R2FZCXWE5YA9U3|2226218777|     995777095|                Alex|           Books|          5|           36|         40|   Y|                N|Inattendu et parf...|C'est le premier ...|2011-01-18 00:00:00|              90.0|\n",
            "|         FR|   46741826|R1W8PAF1O6ZUSW|2226218777|     995777095|                Alex|           Books|          3|           79|         87|   Y|                N|Dur, cru et intense!|« Alex » est comm...|2011-01-11 00:00:00| 90.80459770114942|\n",
            "|         FR|   48337327|R3AHH1QHTK6XTN|2226246940|     927755747|            22/11/63|           Books|          2|           13|         24|   Y|                N|Trop long, trop d...|Il faut se rendre...|2013-02-26 00:00:00|54.166666666666664|\n",
            "|         FR|   48575925|R2R1E8TSVS8XSP|B002VPE1WK|     839407277|AmazonBasics Sac ...|          Camera|          5|          111|        119|   Y|                N|Excellent sac con...|Photographe amate...|2010-09-10 00:00:00| 93.27731092436974|\n",
            "|         FR|   49796689|R354QNYTK5J21P|B002VPE1WK|     839407277|AmazonBasics Sac ...|          Camera|          5|           24|         26|   Y|                N|Un sac à dos idéal !|Bonjour à tous,  ...|2010-10-07 00:00:00|  92.3076923076923|\n",
            "+-----------+-----------+--------------+----------+--------------+--------------------+----------------+-----------+-------------+-----------+----+-----------------+--------------------+--------------------+-------------------+------------------+\n",
            "\n"
          ]
        }
      ],
      "source": [
        "Vine_Yes_df.show()"
      ]
    },
    {
      "cell_type": "code",
      "execution_count": null,
      "metadata": {
        "colab": {
          "base_uri": "https://localhost:8080/"
        },
        "id": "nfhfHq3oh3OQ",
        "outputId": "524213c2-9756-478c-ed68-af66f0737033"
      },
      "outputs": [
        {
          "data": {
            "text/plain": [
              "19"
            ]
          },
          "execution_count": 35,
          "metadata": {},
          "output_type": "execute_result"
        }
      ],
      "source": [
        "Vine_Yes_df.count()"
      ]
    },
    {
      "cell_type": "markdown",
      "metadata": {
        "id": "BSGgIUmNlG6a"
      },
      "source": [
        "all the rows where the review was not part of the Vine program (unpaid), vine == 'N'."
      ]
    },
    {
      "cell_type": "code",
      "execution_count": null,
      "metadata": {
        "id": "Iayv3yYch3Zy"
      },
      "outputs": [],
      "source": [
        "Vine_No_df=happy_helpful_votes_df.filter(\"vine=='N'\")"
      ]
    },
    {
      "cell_type": "code",
      "execution_count": null,
      "metadata": {
        "colab": {
          "base_uri": "https://localhost:8080/"
        },
        "id": "yG75gW6ClYjB",
        "outputId": "dcfb21ec-c6a5-4ccd-9422-52ac66afca74"
      },
      "outputs": [
        {
          "name": "stdout",
          "output_type": "stream",
          "text": [
            "+-----------+-----------+--------------+----------+--------------+--------------------+--------------------+-----------+-------------+-----------+----+-----------------+--------------------+--------------------+-------------------+------------------+\n",
            "|marketplace|customer_id|     review_id|product_id|product_parent|       product_title|    product_category|star_rating|helpful_votes|total_votes|vine|verified_purchase|     review_headline|         review_body|        review_date|       happy_votes|\n",
            "+-----------+-----------+--------------+----------+--------------+--------------------+--------------------+-----------+-------------+-----------+----+-----------------+--------------------+--------------------+-------------------+------------------+\n",
            "|         FR|      47266|R2LX6LJ7BA92OO|B00YN6XHMU|     474654167|Grey: Fifty Shade...|Digital_Ebook_Pur...|          1|           21|         27|   N|                Y|De la guimauve en...|Je pensais que la...|2015-06-20 00:00:00| 77.77777777777779|\n",
            "|         FR|      49017|R3VMEW1JWIXV1E|B005ETA5K2|     714836836|ALFA Network AWUS...|                  PC|          1|            2|         26|   N|                N|Pas possible de m...|Je ne suis pas a ...|2012-11-21 00:00:00|7.6923076923076925|\n",
            "|         FR|      99531|R2612UZ2GU2K29|B00FAPF5U0|      46324555|    Candy Crush Saga|         Mobile_Apps|          5|           25|         32|   N|                Y|    candy crush saga|J'aime trop se je...|2013-11-13 00:00:00|            78.125|\n",
            "|         FR|      99531|R28X8YI8B00C6S|B00I6IKSZ0|     918624977|Pixel Gun 3D (Poc...|         Mobile_Apps|          4|           52|         63|   N|                Y|                Sava|Ce jeu est tr&egr...|2014-08-05 00:00:00| 82.53968253968253|\n",
            "|         FR|     100106|R3O3RDGDHHINF2|B00K4APIN0|     979253225|Clash of Lords 2:...|         Mobile_Apps|          5|           41|         53|   N|                Y|tr&egrave;s tr&eg...|Tr&egrave;s tr&eg...|2014-06-18 00:00:00| 77.35849056603774|\n",
            "|         FR|    1231979|  RQRAR269EQNP|B00LX8KZZ8|     922206174|         yubikey Neo|                  PC|          2|            7|         35|   N|                Y|bon produit mais ...|je viens de recev...|2014-12-06 00:00:00|              20.0|\n",
            "|         FR|    2658758|R1FSDCDV0XV3X6|B00KNWYDU8|     779873629|         Dragon City|         Mobile_Apps|          4|           27|         33|   N|                Y|        jeu addictif|Quand on commence...|2015-08-20 00:00:00| 81.81818181818183|\n",
            "|         FR|    2938798|R2LK33YEMGHB27|B00UW6AFXO|     636381571|Karl Böhm: Late R...|               Music|          5|            4|         28|   N|                Y|      Karl B&ouml;hm|Un coffret conten...|2015-07-26 00:00:00|14.285714285714285|\n",
            "|         FR|    2982062|R3QBW3JMQ4WOOW|B00JOT3HQ2|     545270466|  Geometry Dash Lite|         Mobile_Apps|          5|           14|         20|   N|                Y|     Une merveille!!|Ce jeu est fantas...|2014-10-23 00:00:00|              70.0|\n",
            "|         FR|    3360994| RRZXAHEVTT2HC|B00PSID6ZK|     609815143|   Ma Talking Angela|         Mobile_Apps|          5|           69|         92|   N|                Y|          TROP COOOL|trop cool  j ador...|2015-05-06 00:00:00|              75.0|\n",
            "|         FR|    3487971|R3AUV7LA2MZTEO|B00GINENG0|     199830611|     Mon Talking Tom|         Mobile_Apps|          5|           16|         21|   N|                N|     agr&eacute;able|Ma fille adore ce...|2015-03-24 00:00:00| 76.19047619047619|\n",
            "|         FR|    3614115| R3NOR8QP5W657|B013JUNL58|     758289517|Star Wars - La sa...|           Video DVD|          1|           15|         29|   N|                N|un bel emballage ...|je suis entièreme...|2015-08-16 00:00:00|51.724137931034484|\n",
            "|         FR|    3731980|R1XM8IQUDFKBQZ|B00V94QAO6|     672024888|Interstellar Coff...|           Video DVD|          2|           19|         27|   N|                N|Tarif revendeur t...|Presque deux fois...|2015-04-01 00:00:00| 70.37037037037037|\n",
            "|         FR|    3741590| RZR9JFL71VIHX|B00AQVMZKQ|     530546487|Downton Abbey-Ser...|           Video DVD|          5|           53|         62|   N|                N|Patience ça viend...|Pour passer ma co...|2014-04-16 00:00:00| 85.48387096774194|\n",
            "|         FR|    3763078|R2OTWD8ZTG53UV|B00H2XX4OW|      62408656|Lego City - 60049...|                Toys|          1|           17|         20|   N|                N|         Scandaleux!|Ce camion est en ...|2014-12-13 00:00:00|              85.0|\n",
            "|         FR|    3766627|R1R116HFXJ3X2O|B00NIGL32M|     241676942|Sony Xperia Z3 Sm...|            Wireless|          1|           15|         20|   N|                Y|je suis d&eacute;...|Bonjour<br />Je s...|2015-05-16 00:00:00|              75.0|\n",
            "|         FR|    3772088| RY8YALKOKA9HZ|B00HDEERTQ|     803981632|Le Hobbit - La dé...|           Video DVD|          5|           20|         26|   N|                N|       Sublime en 3D|Film captivant et...|2014-04-19 00:00:00| 76.92307692307693|\n",
            "|         FR|    3851732| R1DFKOY7DJ215|B00O87J9NU|      52119370|Beyonce (2 CD + 2...|               Music|          1|            2|         31|   N|                N|Circulez y'a rien...|Si je pouvais met...|2014-12-24 00:00:00| 6.451612903225806|\n",
            "|         FR|    3923173|R25E3DCOW697YX|B010EFKOSS|     895883504|Mad max : fury ro...|           Video DVD|          1|            9|         59|   N|                N|        Pas terrible|Moi qui ai adoré ...|2015-07-15 00:00:00|15.254237288135593|\n",
            "|         FR|    3926853|R2JYNRZIJZHTVX|B00RC3MJDY|     672024888|Interstellar [War...|           Video DVD|          5|           23|         29|   N|                N|            Très bon|Il faut vraiment ...|2015-04-29 00:00:00|  79.3103448275862|\n",
            "+-----------+-----------+--------------+----------+--------------+--------------------+--------------------+-----------+-------------+-----------+----+-----------------+--------------------+--------------------+-------------------+------------------+\n",
            "only showing top 20 rows\n",
            "\n"
          ]
        },
        {
          "data": {
            "text/plain": [
              "10923"
            ]
          },
          "execution_count": 76,
          "metadata": {},
          "output_type": "execute_result"
        }
      ],
      "source": [
        "Vine_No_df.show()\n",
        "Vine_No_df.count()"
      ]
    },
    {
      "cell_type": "markdown",
      "metadata": {
        "id": "q7zD6cAHl17k"
      },
      "source": [
        "total number of reviews, the number of 5-star reviews, and the percentage of 5-star reviews for the two types of review (paid vs unpaid)."
      ]
    },
    {
      "cell_type": "code",
      "execution_count": null,
      "metadata": {
        "id": "DZUwZ8bpphT9"
      },
      "outputs": [],
      "source": [
        "from pyspark.sql.functions import isnan, when, count, col"
      ]
    },
    {
      "cell_type": "markdown",
      "metadata": {
        "id": "w7xPEXT8l9eI"
      },
      "source": [
        "#Yes Vine "
      ]
    },
    {
      "cell_type": "code",
      "execution_count": null,
      "metadata": {
        "id": "iFY0kXmgwzL6"
      },
      "outputs": [],
      "source": [
        "#total number of reviews\n",
        "df_YReview = Vine_Yes_df.filter(Vine_Yes_df.review_headline.isNotNull())"
      ]
    },
    {
      "cell_type": "code",
      "execution_count": null,
      "metadata": {
        "colab": {
          "base_uri": "https://localhost:8080/"
        },
        "id": "q6m4K_oow-WU",
        "outputId": "0602875a-9aef-40d9-a73e-724dad057d56"
      },
      "outputs": [
        {
          "name": "stdout",
          "output_type": "stream",
          "text": [
            "+-----------+-----------+--------------+----------+--------------+--------------------+----------------+-----------+-------------+-----------+----+-----------------+--------------------+--------------------+-------------------+------------------+\n",
            "|marketplace|customer_id|     review_id|product_id|product_parent|       product_title|product_category|star_rating|helpful_votes|total_votes|vine|verified_purchase|     review_headline|         review_body|        review_date|       happy_votes|\n",
            "+-----------+-----------+--------------+----------+--------------+--------------------+----------------+-----------+-------------+-----------+----+-----------------+--------------------+--------------------+-------------------+------------------+\n",
            "|         FR|   21965371|R22SUWPP3KRZT6|B00KRM8LE8|     711168977|Amazon - Étui de ...|              PC|          3|           21|         26|   Y|                N|bien mais 50 % de...|Sur la conception...|2014-10-19 00:00:00| 80.76923076923077|\n",
            "|         FR|   23307243|R3O1MAY03ZF3MP|B008MWBY6W|     884543747|AmazonBasics Étui...|          Camera|          3|           19|         20|   Y|                N|Tr&egrave;s bonne...|Cet &eacute;tui e...|2013-03-07 00:00:00|              95.0|\n",
            "|         FR|   24680976|R30LQPCSI3ELHN|2226246940|     927755747|            22/11/63|           Books|          5|           18|         23|   Y|                N|Retour vers le passé|Difficle de comme...|2013-02-18 00:00:00| 78.26086956521739|\n",
            "|         FR|   25843266|R3QIS7D8004AD2|B00H43WOAK|     299744542|Withings Tensiomè...|              PC|          3|           76|         80|   Y|                N|tensiom&egrave;tr...|Ayant déja celui ...|2014-02-22 00:00:00|              95.0|\n",
            "|         FR|   29404673|R3R6CDRZU5U2XW|B003MRN6PY|     729088587|Bach : Intégrale ...|           Music|          4|           41|         47|   Y|                N|Pour les amoureux...|Voici un beau et ...|2011-10-28 00:00:00|  87.2340425531915|\n",
            "|         FR|   30321120|R16J9CTJQ41IC2|2226246940|     927755747|            22/11/63|           Books|          5|           18|         22|   Y|                N|Le maître a encor...|Apr&egrave;s \\\\\" ...|2013-03-05 00:00:00| 81.81818181818183|\n",
            "|         FR|   31625500| RJNGHTZD3NT6F|B002VPE1WK|     839407277|AmazonBasics Sac ...|          Camera|          3|           30|         35|   Y|                N|Un sac qui ne con...|Ce sac est certes...|2010-11-15 00:00:00| 85.71428571428571|\n",
            "|         FR|   32466586|R1QVLVW5QS39ZF|2226246940|     927755747|            22/11/63|           Books|          4|           21|         25|   Y|                N|Un captivant voya...|Pari réussi pour ...|2013-03-04 00:00:00|              84.0|\n",
            "|         FR|   33419087| R4SMY6Y2J9897|B003MRN6PY|     729088587|Bach : Intégrale ...|           Music|          5|           24|         28|   Y|                N|L'int&eacute;gral...|Tout d'abord, sac...|2011-10-11 00:00:00| 85.71428571428571|\n",
            "|         FR|   33875828|R1JKVISEGW1GXV|B003MRN6PY|     729088587|Bach : Intégrale ...|           Music|          5|           37|         41|   Y|                N|Un coffret tout e...|Tout a d&eacute;j...|2012-04-21 00:00:00|  90.2439024390244|\n",
            "|         FR|   34738500|R1ZQ5RKLXUO558|B003MRN6PY|     729088587|Bach : Intégrale ...|           Music|          4|           39|         45|   Y|                N|Le prix seul est ...|L'œuvre de Bach e...|2011-10-14 00:00:00| 86.66666666666667|\n",
            "|         FR|   35500769| R7651GBYAFMDM|2226218777|     995777095|                Alex|           Books|          4|           68|         68|   Y|                N|Retourn&eacute; j...|Que dire, &agrave...|2011-03-09 00:00:00|             100.0|\n",
            "|         FR|   39149743|R355429CV7ZLK5|B00CW7KK9K|     977480037|Withings Pulse - ...|          Sports|          5|           25|         27|   Y|                N|   presque magique !|Ce petit appareil...|2013-12-02 00:00:00|  92.5925925925926|\n",
            "|         FR|   40324108|R1G6N679O6URRH|B0090CVJZ4|     577429472|AmazonBasics Lot ...|     Electronics|          5|           25|         27|   Y|                N|bon rapport quali...|ensemble très int...|2013-11-30 00:00:00|  92.5925925925926|\n",
            "|         FR|   40518356|R2FZCXWE5YA9U3|2226218777|     995777095|                Alex|           Books|          5|           36|         40|   Y|                N|Inattendu et parf...|C'est le premier ...|2011-01-18 00:00:00|              90.0|\n",
            "|         FR|   46741826|R1W8PAF1O6ZUSW|2226218777|     995777095|                Alex|           Books|          3|           79|         87|   Y|                N|Dur, cru et intense!|« Alex » est comm...|2011-01-11 00:00:00| 90.80459770114942|\n",
            "|         FR|   48337327|R3AHH1QHTK6XTN|2226246940|     927755747|            22/11/63|           Books|          2|           13|         24|   Y|                N|Trop long, trop d...|Il faut se rendre...|2013-02-26 00:00:00|54.166666666666664|\n",
            "|         FR|   48575925|R2R1E8TSVS8XSP|B002VPE1WK|     839407277|AmazonBasics Sac ...|          Camera|          5|          111|        119|   Y|                N|Excellent sac con...|Photographe amate...|2010-09-10 00:00:00| 93.27731092436974|\n",
            "|         FR|   49796689|R354QNYTK5J21P|B002VPE1WK|     839407277|AmazonBasics Sac ...|          Camera|          5|           24|         26|   Y|                N|Un sac à dos idéal !|Bonjour à tous,  ...|2010-10-07 00:00:00|  92.3076923076923|\n",
            "+-----------+-----------+--------------+----------+--------------+--------------------+----------------+-----------+-------------+-----------+----+-----------------+--------------------+--------------------+-------------------+------------------+\n",
            "\n"
          ]
        }
      ],
      "source": [
        "df_YReview.show()"
      ]
    },
    {
      "cell_type": "code",
      "execution_count": null,
      "metadata": {
        "id": "MeiUwdKUxqsh"
      },
      "outputs": [],
      "source": [
        "Vine_Reviews=df_YReview.count()"
      ]
    },
    {
      "cell_type": "code",
      "execution_count": null,
      "metadata": {
        "colab": {
          "base_uri": "https://localhost:8080/"
        },
        "id": "0kdsU4W0x4FZ",
        "outputId": "d875b014-2bbe-4d48-80a5-26ee14fc79bd"
      },
      "outputs": [
        {
          "name": "stdout",
          "output_type": "stream",
          "text": [
            "19\n"
          ]
        }
      ],
      "source": [
        "print(Vine_Reviews)"
      ]
    },
    {
      "cell_type": "code",
      "execution_count": null,
      "metadata": {
        "colab": {
          "base_uri": "https://localhost:8080/"
        },
        "id": "vJW7pA5_ylWn",
        "outputId": "6e9ec6db-876b-4e2b-c4e6-67f857d2dff4"
      },
      "outputs": [
        {
          "name": "stdout",
          "output_type": "stream",
          "text": [
            "+-----------+-----------+--------------+----------+--------------+--------------------+----------------+-----------+-------------+-----------+----+-----------------+--------------------+--------------------+-------------------+-----------------+\n",
            "|marketplace|customer_id|     review_id|product_id|product_parent|       product_title|product_category|star_rating|helpful_votes|total_votes|vine|verified_purchase|     review_headline|         review_body|        review_date|      happy_votes|\n",
            "+-----------+-----------+--------------+----------+--------------+--------------------+----------------+-----------+-------------+-----------+----+-----------------+--------------------+--------------------+-------------------+-----------------+\n",
            "|         FR|   24680976|R30LQPCSI3ELHN|2226246940|     927755747|            22/11/63|           Books|          5|           18|         23|   Y|                N|Retour vers le passé|Difficle de comme...|2013-02-18 00:00:00|78.26086956521739|\n",
            "|         FR|   30321120|R16J9CTJQ41IC2|2226246940|     927755747|            22/11/63|           Books|          5|           18|         22|   Y|                N|Le maître a encor...|Apr&egrave;s \\\\\" ...|2013-03-05 00:00:00|81.81818181818183|\n",
            "|         FR|   33419087| R4SMY6Y2J9897|B003MRN6PY|     729088587|Bach : Intégrale ...|           Music|          5|           24|         28|   Y|                N|L'int&eacute;gral...|Tout d'abord, sac...|2011-10-11 00:00:00|85.71428571428571|\n",
            "|         FR|   33875828|R1JKVISEGW1GXV|B003MRN6PY|     729088587|Bach : Intégrale ...|           Music|          5|           37|         41|   Y|                N|Un coffret tout e...|Tout a d&eacute;j...|2012-04-21 00:00:00| 90.2439024390244|\n",
            "|         FR|   39149743|R355429CV7ZLK5|B00CW7KK9K|     977480037|Withings Pulse - ...|          Sports|          5|           25|         27|   Y|                N|   presque magique !|Ce petit appareil...|2013-12-02 00:00:00| 92.5925925925926|\n",
            "|         FR|   40324108|R1G6N679O6URRH|B0090CVJZ4|     577429472|AmazonBasics Lot ...|     Electronics|          5|           25|         27|   Y|                N|bon rapport quali...|ensemble très int...|2013-11-30 00:00:00| 92.5925925925926|\n",
            "|         FR|   40518356|R2FZCXWE5YA9U3|2226218777|     995777095|                Alex|           Books|          5|           36|         40|   Y|                N|Inattendu et parf...|C'est le premier ...|2011-01-18 00:00:00|             90.0|\n",
            "|         FR|   48575925|R2R1E8TSVS8XSP|B002VPE1WK|     839407277|AmazonBasics Sac ...|          Camera|          5|          111|        119|   Y|                N|Excellent sac con...|Photographe amate...|2010-09-10 00:00:00|93.27731092436974|\n",
            "|         FR|   49796689|R354QNYTK5J21P|B002VPE1WK|     839407277|AmazonBasics Sac ...|          Camera|          5|           24|         26|   Y|                N|Un sac à dos idéal !|Bonjour à tous,  ...|2010-10-07 00:00:00| 92.3076923076923|\n",
            "+-----------+-----------+--------------+----------+--------------+--------------------+----------------+-----------+-------------+-----------+----+-----------------+--------------------+--------------------+-------------------+-----------------+\n",
            "\n"
          ]
        }
      ],
      "source": [
        "df_YReview.filter(df_YReview.star_rating == '5').show()"
      ]
    },
    {
      "cell_type": "code",
      "execution_count": null,
      "metadata": {
        "colab": {
          "base_uri": "https://localhost:8080/"
        },
        "id": "iv-OVJeBylSX",
        "outputId": "3c59c996-8458-4c0f-baba-f5941d9e9942"
      },
      "outputs": [
        {
          "name": "stdout",
          "output_type": "stream",
          "text": [
            "9\n"
          ]
        }
      ],
      "source": [
        "vine5star=df_YReview.filter(df_YReview.star_rating == '5').count()\n",
        "print(vine5star)"
      ]
    },
    {
      "cell_type": "code",
      "execution_count": null,
      "metadata": {
        "colab": {
          "base_uri": "https://localhost:8080/"
        },
        "id": "heNAYDe_ylZk",
        "outputId": "0779abcf-e862-49f5-8e3b-bba3a62c3784"
      },
      "outputs": [
        {
          "name": "stdout",
          "output_type": "stream",
          "text": [
            "47.368421052631575\n"
          ]
        }
      ],
      "source": [
        "percent5star=vine5star/Vine_Reviews*100\n",
        "print(percent5star)"
      ]
    },
    {
      "cell_type": "markdown",
      "metadata": {
        "id": "FQ1d0hz11JEB"
      },
      "source": [
        "#No Vine"
      ]
    },
    {
      "cell_type": "code",
      "execution_count": null,
      "metadata": {
        "id": "d2jOs2nC4lC2"
      },
      "outputs": [],
      "source": [
        "print(df_NReview.filter(col(\"review_body\").isNull || col(\"review_body\") === \"\").count())_NReview"
      ]
    },
    {
      "cell_type": "code",
      "execution_count": null,
      "metadata": {
        "colab": {
          "base_uri": "https://localhost:8080/"
        },
        "id": "blpYIkKI52M2",
        "outputId": "6684abd6-457e-4ea3-b977-ba7ee91c2f44"
      },
      "outputs": [
        {
          "name": "stdout",
          "output_type": "stream",
          "text": [
            "10923\n"
          ]
        }
      ],
      "source": [
        "hasReview=df_NReview.filter(col(\"review_date\").isNotNull()).count()\n",
        "print(hasReview)"
      ]
    },
    {
      "cell_type": "code",
      "execution_count": null,
      "metadata": {
        "colab": {
          "base_uri": "https://localhost:8080/"
        },
        "id": "fFDINtru5-bh",
        "outputId": "c3ab4b4a-fb85-4641-d21e-1edfbfcfa8b8"
      },
      "outputs": [
        {
          "name": "stdout",
          "output_type": "stream",
          "text": [
            "0\n"
          ]
        }
      ],
      "source": [
        "noReview=df_NReview.filter(col(\"review_date\").isNull()).count()\n",
        "print(noReview)"
      ]
    },
    {
      "cell_type": "code",
      "execution_count": null,
      "metadata": {
        "id": "PfIPUQXA1M2M"
      },
      "outputs": [],
      "source": [
        "df_NReview = Vine_No_df.filter(Vine_No_df.review_headline.isNotNull())"
      ]
    },
    {
      "cell_type": "code",
      "execution_count": null,
      "metadata": {
        "colab": {
          "base_uri": "https://localhost:8080/"
        },
        "id": "8bNozxhb1NIZ",
        "outputId": "06781a87-5ca1-40e0-c402-1b22c908bdac"
      },
      "outputs": [
        {
          "name": "stdout",
          "output_type": "stream",
          "text": [
            "+-----------+-----------+--------------+----------+--------------+--------------------+--------------------+-----------+-------------+-----------+----+-----------------+--------------------+--------------------+-------------------+------------------+\n",
            "|marketplace|customer_id|     review_id|product_id|product_parent|       product_title|    product_category|star_rating|helpful_votes|total_votes|vine|verified_purchase|     review_headline|         review_body|        review_date|       happy_votes|\n",
            "+-----------+-----------+--------------+----------+--------------+--------------------+--------------------+-----------+-------------+-----------+----+-----------------+--------------------+--------------------+-------------------+------------------+\n",
            "|         FR|      47266|R2LX6LJ7BA92OO|B00YN6XHMU|     474654167|Grey: Fifty Shade...|Digital_Ebook_Pur...|          1|           21|         27|   N|                Y|De la guimauve en...|Je pensais que la...|2015-06-20 00:00:00| 77.77777777777779|\n",
            "|         FR|      49017|R3VMEW1JWIXV1E|B005ETA5K2|     714836836|ALFA Network AWUS...|                  PC|          1|            2|         26|   N|                N|Pas possible de m...|Je ne suis pas a ...|2012-11-21 00:00:00|7.6923076923076925|\n",
            "|         FR|      99531|R2612UZ2GU2K29|B00FAPF5U0|      46324555|    Candy Crush Saga|         Mobile_Apps|          5|           25|         32|   N|                Y|    candy crush saga|J'aime trop se je...|2013-11-13 00:00:00|            78.125|\n",
            "|         FR|      99531|R28X8YI8B00C6S|B00I6IKSZ0|     918624977|Pixel Gun 3D (Poc...|         Mobile_Apps|          4|           52|         63|   N|                Y|                Sava|Ce jeu est tr&egr...|2014-08-05 00:00:00| 82.53968253968253|\n",
            "|         FR|     100106|R3O3RDGDHHINF2|B00K4APIN0|     979253225|Clash of Lords 2:...|         Mobile_Apps|          5|           41|         53|   N|                Y|tr&egrave;s tr&eg...|Tr&egrave;s tr&eg...|2014-06-18 00:00:00| 77.35849056603774|\n",
            "|         FR|    1231979|  RQRAR269EQNP|B00LX8KZZ8|     922206174|         yubikey Neo|                  PC|          2|            7|         35|   N|                Y|bon produit mais ...|je viens de recev...|2014-12-06 00:00:00|              20.0|\n",
            "|         FR|    2658758|R1FSDCDV0XV3X6|B00KNWYDU8|     779873629|         Dragon City|         Mobile_Apps|          4|           27|         33|   N|                Y|        jeu addictif|Quand on commence...|2015-08-20 00:00:00| 81.81818181818183|\n",
            "|         FR|    2938798|R2LK33YEMGHB27|B00UW6AFXO|     636381571|Karl Böhm: Late R...|               Music|          5|            4|         28|   N|                Y|      Karl B&ouml;hm|Un coffret conten...|2015-07-26 00:00:00|14.285714285714285|\n",
            "|         FR|    2982062|R3QBW3JMQ4WOOW|B00JOT3HQ2|     545270466|  Geometry Dash Lite|         Mobile_Apps|          5|           14|         20|   N|                Y|     Une merveille!!|Ce jeu est fantas...|2014-10-23 00:00:00|              70.0|\n",
            "|         FR|    3360994| RRZXAHEVTT2HC|B00PSID6ZK|     609815143|   Ma Talking Angela|         Mobile_Apps|          5|           69|         92|   N|                Y|          TROP COOOL|trop cool  j ador...|2015-05-06 00:00:00|              75.0|\n",
            "|         FR|    3487971|R3AUV7LA2MZTEO|B00GINENG0|     199830611|     Mon Talking Tom|         Mobile_Apps|          5|           16|         21|   N|                N|     agr&eacute;able|Ma fille adore ce...|2015-03-24 00:00:00| 76.19047619047619|\n",
            "|         FR|    3614115| R3NOR8QP5W657|B013JUNL58|     758289517|Star Wars - La sa...|           Video DVD|          1|           15|         29|   N|                N|un bel emballage ...|je suis entièreme...|2015-08-16 00:00:00|51.724137931034484|\n",
            "|         FR|    3731980|R1XM8IQUDFKBQZ|B00V94QAO6|     672024888|Interstellar Coff...|           Video DVD|          2|           19|         27|   N|                N|Tarif revendeur t...|Presque deux fois...|2015-04-01 00:00:00| 70.37037037037037|\n",
            "|         FR|    3741590| RZR9JFL71VIHX|B00AQVMZKQ|     530546487|Downton Abbey-Ser...|           Video DVD|          5|           53|         62|   N|                N|Patience ça viend...|Pour passer ma co...|2014-04-16 00:00:00| 85.48387096774194|\n",
            "|         FR|    3763078|R2OTWD8ZTG53UV|B00H2XX4OW|      62408656|Lego City - 60049...|                Toys|          1|           17|         20|   N|                N|         Scandaleux!|Ce camion est en ...|2014-12-13 00:00:00|              85.0|\n",
            "|         FR|    3766627|R1R116HFXJ3X2O|B00NIGL32M|     241676942|Sony Xperia Z3 Sm...|            Wireless|          1|           15|         20|   N|                Y|je suis d&eacute;...|Bonjour<br />Je s...|2015-05-16 00:00:00|              75.0|\n",
            "|         FR|    3772088| RY8YALKOKA9HZ|B00HDEERTQ|     803981632|Le Hobbit - La dé...|           Video DVD|          5|           20|         26|   N|                N|       Sublime en 3D|Film captivant et...|2014-04-19 00:00:00| 76.92307692307693|\n",
            "|         FR|    3851732| R1DFKOY7DJ215|B00O87J9NU|      52119370|Beyonce (2 CD + 2...|               Music|          1|            2|         31|   N|                N|Circulez y'a rien...|Si je pouvais met...|2014-12-24 00:00:00| 6.451612903225806|\n",
            "|         FR|    3923173|R25E3DCOW697YX|B010EFKOSS|     895883504|Mad max : fury ro...|           Video DVD|          1|            9|         59|   N|                N|        Pas terrible|Moi qui ai adoré ...|2015-07-15 00:00:00|15.254237288135593|\n",
            "|         FR|    3926853|R2JYNRZIJZHTVX|B00RC3MJDY|     672024888|Interstellar [War...|           Video DVD|          5|           23|         29|   N|                N|            Très bon|Il faut vraiment ...|2015-04-29 00:00:00|  79.3103448275862|\n",
            "+-----------+-----------+--------------+----------+--------------+--------------------+--------------------+-----------+-------------+-----------+----+-----------------+--------------------+--------------------+-------------------+------------------+\n",
            "only showing top 20 rows\n",
            "\n"
          ]
        }
      ],
      "source": [
        "df_NReview.show()"
      ]
    },
    {
      "cell_type": "code",
      "execution_count": null,
      "metadata": {
        "colab": {
          "base_uri": "https://localhost:8080/"
        },
        "id": "aFH_ZZJQ1NNZ",
        "outputId": "f5dfa7c2-5964-47bc-c172-9ff9e15c0c69"
      },
      "outputs": [
        {
          "name": "stdout",
          "output_type": "stream",
          "text": [
            "10923\n"
          ]
        }
      ],
      "source": [
        "NonVine_Reviews=df_NReview.count()\n",
        "print(NonVine_Reviews)"
      ]
    },
    {
      "cell_type": "code",
      "execution_count": null,
      "metadata": {
        "colab": {
          "base_uri": "https://localhost:8080/"
        },
        "id": "rP6mg-hZ738i",
        "outputId": "456fca40-f5d0-4c3d-94c2-845f6c55cb6d"
      },
      "outputs": [
        {
          "name": "stdout",
          "output_type": "stream",
          "text": [
            "5194\n"
          ]
        }
      ],
      "source": [
        "nonvine5star=df_NReview.filter(df_NReview.star_rating == '5').count()\n",
        "print(nonvine5star)"
      ]
    },
    {
      "cell_type": "code",
      "execution_count": null,
      "metadata": {
        "colab": {
          "base_uri": "https://localhost:8080/"
        },
        "id": "9E2op6EP727j",
        "outputId": "8523c19b-89cb-4df6-833b-54f34f4ff4c2"
      },
      "outputs": [
        {
          "name": "stdout",
          "output_type": "stream",
          "text": [
            "47.55103909182459\n"
          ]
        }
      ],
      "source": [
        "percent5starNV=nonvine5star/NonVine_Reviews*100\n",
        "print(percent5starNV)"
      ]
    }
  ],
  "metadata": {
    "colab": {
      "name": "Vine_Review_Analysis.ipynb",
      "provenance": []
    },
    "kernelspec": {
      "display_name": "Python 3",
      "name": "python3"
    },
    "language_info": {
      "name": "python"
    }
  },
  "nbformat": 4,
  "nbformat_minor": 0
}
